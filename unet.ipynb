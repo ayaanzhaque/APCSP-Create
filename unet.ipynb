{
  "nbformat": 4,
  "nbformat_minor": 0,
  "metadata": {
    "colab": {
      "name": "unet.ipynb",
      "provenance": [],
      "toc_visible": true,
      "include_colab_link": true
    },
    "kernelspec": {
      "name": "python3",
      "display_name": "Python 3"
    },
    "accelerator": "GPU"
  },
  "cells": [
    {
      "cell_type": "markdown",
      "metadata": {
        "id": "view-in-github",
        "colab_type": "text"
      },
      "source": [
        "<a href=\"https://colab.research.google.com/github/ayaanzhaque/APCSP-Create/blob/master/unet.ipynb\" target=\"_parent\"><img src=\"https://colab.research.google.com/assets/colab-badge.svg\" alt=\"Open In Colab\"/></a>"
      ]
    },
    {
      "cell_type": "markdown",
      "metadata": {
        "id": "4lcY1ziTLblo",
        "colab_type": "text"
      },
      "source": [
        "## pytorch-uent\n",
        "\n",
        "https://github.com/usuyama/pytorch-unet"
      ]
    },
    {
      "cell_type": "code",
      "metadata": {
        "id": "yUvckFGU-4HE",
        "colab_type": "code",
        "colab": {
          "base_uri": "https://localhost:8080/",
          "height": 51
        },
        "outputId": "aeb5b666-d14c-4d89-ec24-4830cb1b347e"
      },
      "source": [
        "!git clone https://github.com/usuyama/pytorch-unet.git\n",
        "\n",
        "%cd pytorch-unet"
      ],
      "execution_count": 42,
      "outputs": [
        {
          "output_type": "stream",
          "text": [
            "fatal: destination path 'pytorch-unet' already exists and is not an empty directory.\n",
            "/content/pytorch-unet\n"
          ],
          "name": "stdout"
        }
      ]
    },
    {
      "cell_type": "code",
      "metadata": {
        "id": "EAx84Zg1_RnV",
        "colab_type": "code",
        "colab": {
          "base_uri": "https://localhost:8080/",
          "height": 85
        },
        "outputId": "2a99f25e-7168-4bad-fc1b-4c28ab0b123e"
      },
      "source": [
        "!ls"
      ],
      "execution_count": 43,
      "outputs": [
        {
          "output_type": "stream",
          "text": [
            "helper.py  __pycache__\t\t\tpytorch_unet.py\n",
            "images\t   pytorch_fcn.ipynb\t\tpytorch_unet_resnet18_colab.ipynb\n",
            "LICENSE    pytorch_resnet18_unet.ipynb\tREADME.md\n",
            "loss.py    pytorch_unet.ipynb\t\tsimulation.py\n"
          ],
          "name": "stdout"
        }
      ]
    },
    {
      "cell_type": "markdown",
      "metadata": {
        "id": "N90-BlegJZfs",
        "colab_type": "text"
      },
      "source": [
        "## Colab Setup\n"
      ]
    },
    {
      "cell_type": "code",
      "metadata": {
        "id": "HCitpQdkJNdI",
        "colab_type": "code",
        "colab": {
          "base_uri": "https://localhost:8080/",
          "height": 34
        },
        "outputId": "259b2f6b-cec3-4ca2-affe-3bd713d89e8b"
      },
      "source": [
        "import torch\n",
        "import pdb\n",
        "\n",
        "if not torch.cuda.is_available():\n",
        "  raise Exception(\"GPU not availalbe. CPU training will be too slow.\")\n",
        "\n",
        "print(\"device name\", torch.cuda.get_device_name(0))"
      ],
      "execution_count": 44,
      "outputs": [
        {
          "output_type": "stream",
          "text": [
            "device name Tesla K80\n"
          ],
          "name": "stdout"
        }
      ]
    },
    {
      "cell_type": "code",
      "metadata": {
        "id": "pyZu5W66HsVv",
        "colab_type": "code",
        "colab": {
          "base_uri": "https://localhost:8080/",
          "height": 34
        },
        "outputId": "641f077d-babd-4927-afd2-c2b09d18fe4f"
      },
      "source": [
        "from google.colab import drive\n",
        "drive.mount('/content/drive')"
      ],
      "execution_count": 45,
      "outputs": [
        {
          "output_type": "stream",
          "text": [
            "Drive already mounted at /content/drive; to attempt to forcibly remount, call drive.mount(\"/content/drive\", force_remount=True).\n"
          ],
          "name": "stdout"
        }
      ]
    },
    {
      "cell_type": "markdown",
      "metadata": {
        "id": "v8nZ6_mKMsJs",
        "colab_type": "text"
      },
      "source": [
        "## Load Data"
      ]
    },
    {
      "cell_type": "code",
      "metadata": {
        "id": "2c045hVMRonm",
        "colab_type": "code",
        "colab": {}
      },
      "source": [
        "from scipy.io import loadmat\n",
        "datamat = loadmat('/content/drive/My Drive/Research/jsrt.mat')"
      ],
      "execution_count": 46,
      "outputs": []
    },
    {
      "cell_type": "code",
      "metadata": {
        "id": "7Lk5V3TbYQE6",
        "colab_type": "code",
        "colab": {
          "base_uri": "https://localhost:8080/",
          "height": 34
        },
        "outputId": "65e133f8-6ecf-4fd1-fdbd-ede45acff841"
      },
      "source": [
        "datamat.keys()"
      ],
      "execution_count": 47,
      "outputs": [
        {
          "output_type": "execute_result",
          "data": {
            "text/plain": [
              "dict_keys(['__header__', '__version__', '__globals__', 'x_train', 'y_train', 'x_val', 'y_val', 'x_test', 'y_test'])"
            ]
          },
          "metadata": {
            "tags": []
          },
          "execution_count": 47
        }
      ]
    },
    {
      "cell_type": "code",
      "metadata": {
        "id": "bHmfdO-KT4zl",
        "colab_type": "code",
        "colab": {}
      },
      "source": [
        "x_train = datamat[\"x_train\"]\n",
        "y_train = datamat[\"y_train\"]\n",
        "x_val = datamat[\"x_val\"]\n",
        "y_val = datamat[\"y_val\"]\n",
        "x_test = datamat[\"x_test\"]\n",
        "y_test = datamat[\"y_test\"]"
      ],
      "execution_count": 48,
      "outputs": []
    },
    {
      "cell_type": "code",
      "metadata": {
        "id": "Wtq2m7TkXN5F",
        "colab_type": "code",
        "colab": {}
      },
      "source": [
        "import matplotlib.pyplot as plt\n",
        "import matplotlib.image as mpimg\n",
        "import numpy as np\n",
        "\n",
        "x_train = np.array(x_train).reshape(len(x_train),256, 256)\n",
        "y_train = y_train[:,:,:,0] + y_train[:,:,:,1]\n",
        "y_train = np.array(y_train).reshape(len(y_train),1, 256, 256)\n",
        "\n",
        "x_val = np.array(x_val).reshape(len(x_val),256, 256)\n",
        "y_val = y_val[:,:,:,0] + y_val[:,:,:,1]\n",
        "y_val = np.array(y_val).reshape(len(y_val),1, 256, 256)\n",
        "\n",
        "x_test = np.array(x_test).reshape(len(x_test),256, 256)\n",
        "y_test = y_test[:,:,:,0] + y_test[:,:,:,1]\n",
        "y_test = np.array(y_test).reshape(len(y_test),1, 256, 256)"
      ],
      "execution_count": 49,
      "outputs": []
    },
    {
      "cell_type": "code",
      "metadata": {
        "id": "-HZ_MOv3SlJB",
        "colab_type": "code",
        "colab": {
          "base_uri": "https://localhost:8080/",
          "height": 286
        },
        "outputId": "c6c86d46-762f-4be8-e4ea-adbb129dab6e"
      },
      "source": [
        "plt.imshow(np.squeeze(y_train[100]))\n",
        "# plt.imshow(y_train[100])"
      ],
      "execution_count": 50,
      "outputs": [
        {
          "output_type": "execute_result",
          "data": {
            "text/plain": [
              "<matplotlib.image.AxesImage at 0x7f5fcc333978>"
            ]
          },
          "metadata": {
            "tags": []
          },
          "execution_count": 50
        },
        {
          "output_type": "display_data",
          "data": {
            "image/png": "[encoded data removed]",
            "text/plain": [
              "<Figure size 432x288 with 1 Axes>"
            ]
          },
          "metadata": {
            "tags": [],
            "needs_background": "light"
          }
        }
      ]
    },
    {
      "cell_type": "code",
      "metadata": {
        "id": "JVyx6GsMTmyi",
        "colab_type": "code",
        "colab": {
          "base_uri": "https://localhost:8080/",
          "height": 34
        },
        "outputId": "fefae3f2-0f5a-4c91-9392-a5a942b6b47d"
      },
      "source": [
        "y_train.shape"
      ],
      "execution_count": 51,
      "outputs": [
        {
          "output_type": "execute_result",
          "data": {
            "text/plain": [
              "(111, 1, 256, 256)"
            ]
          },
          "metadata": {
            "tags": []
          },
          "execution_count": 51
        }
      ]
    },
    {
      "cell_type": "markdown",
      "metadata": {
        "id": "t16ni593BSUE",
        "colab_type": "text"
      },
      "source": [
        "## Show Data"
      ]
    },
    {
      "cell_type": "code",
      "metadata": {
        "id": "Dzjh6C1HBTCb",
        "colab_type": "code",
        "colab": {}
      },
      "source": [
        "# helper.plot_side_by_side([x_train, y_train])"
      ],
      "execution_count": 52,
      "outputs": []
    },
    {
      "cell_type": "markdown",
      "metadata": {
        "id": "Qg2FqLRGBEJT",
        "colab_type": "text"
      },
      "source": [
        "## Prepare Dataset and DataLoader"
      ]
    },
    {
      "cell_type": "code",
      "metadata": {
        "id": "_-UTr03eAROb",
        "colab_type": "code",
        "colab": {}
      },
      "source": [
        "from torch.utils.data import Dataset, DataLoader\n",
        "from torchvision import transforms, datasets, models\n",
        "\n",
        "class Dataset(Dataset):\n",
        "  def __init__(self, x, y, transform=None):\n",
        "    self.input_images = x\n",
        "    self.target_masks = y\n",
        "    self.transform = transform\n",
        "\n",
        "  def __len__(self):\n",
        "    return len(self.input_images)\n",
        "\n",
        "  def __getitem__(self, idx):\n",
        "    image = self.input_images[idx]\n",
        "    mask = self.target_masks[idx]\n",
        "    if self.transform:\n",
        "      image = self.transform(image)\n",
        "\n",
        "    return [image, mask]\n",
        "\n",
        "# use the same transformations for train/val in this example\n",
        "trans = transforms.Compose([\n",
        "  transforms.ToTensor(),\n",
        "  transforms.Normalize((0.5), (0.5)) # imagenet\n",
        "])\n",
        "\n",
        "train_set = Dataset(x_train, y_train, transform = trans)\n",
        "val_set = Dataset(x_val, y_val, transform = trans)\n",
        "\n",
        "image_datasets = {\n",
        "  'train': train_set, 'val': val_set\n",
        "}\n",
        "\n",
        "batch_size = 25\n",
        "\n",
        "dataloaders = {\n",
        "  'train': DataLoader(train_set, batch_size=batch_size, shuffle=True, num_workers=2),\n",
        "  'val': DataLoader(val_set, batch_size=batch_size, shuffle=True, num_workers=2)\n",
        "}"
      ],
      "execution_count": 53,
      "outputs": []
    },
    {
      "cell_type": "code",
      "metadata": {
        "id": "CRIOwoQvBKPm",
        "colab_type": "code",
        "colab": {
          "base_uri": "https://localhost:8080/",
          "height": 320
        },
        "outputId": "95a6b7e4-39a6-4ada-d36a-c5a1073a1fc0"
      },
      "source": [
        "import torchvision.utils\n",
        "\n",
        "def reverse_transform(inp):\n",
        "  inp = inp.numpy().transpose((1, 2, 0))\n",
        "  mean = np.array([0.485, 0.456, 0.406])\n",
        "  std = np.array([0.229, 0.224, 0.225])\n",
        "  inp = std * inp + mean\n",
        "  inp = np.clip(inp, 0, 1)\n",
        "  inp = (inp * 255).astype(np.uint8)\n",
        "\n",
        "  return inp\n",
        "\n",
        "# Get a batch of training data\n",
        "inputs, masks = next(iter(dataloaders['train']))\n",
        "\n",
        "print(inputs.shape, masks.shape)\n",
        "\n",
        "print(type(inputs))\n",
        "\n",
        "plt.imshow(np.squeeze(inputs[0]))"
      ],
      "execution_count": 54,
      "outputs": [
        {
          "output_type": "stream",
          "text": [
            "torch.Size([25, 1, 256, 256]) torch.Size([25, 1, 256, 256])\n",
            "<class 'torch.Tensor'>\n"
          ],
          "name": "stdout"
        },
        {
          "output_type": "execute_result",
          "data": {
            "text/plain": [
              "<matplotlib.image.AxesImage at 0x7f5fcc31f3c8>"
            ]
          },
          "metadata": {
            "tags": []
          },
          "execution_count": 54
        },
        {
          "output_type": "display_data",
          "data": {
            "image/png": "[encoded data removed]",
            "text/plain": [
              "<Figure size 432x288 with 1 Axes>"
            ]
          },
          "metadata": {
            "tags": [],
            "needs_background": "light"
          }
        }
      ]
    },
    {
      "cell_type": "markdown",
      "metadata": {
        "id": "E7XRZIKtCN8E",
        "colab_type": "text"
      },
      "source": [
        "# Define a UNet module"
      ]
    },
    {
      "cell_type": "code",
      "metadata": {
        "id": "FW01JzeKmYZF",
        "colab_type": "code",
        "colab": {}
      },
      "source": [
        "import torch\n",
        "import torch.nn as nn\n",
        "\n",
        "def double_conv(in_channels, out_channels):\n",
        "    return nn.Sequential(\n",
        "        nn.Conv2d(in_channels, out_channels, 3, padding=1),\n",
        "        nn.ReLU(inplace=True),\n",
        "        nn.Conv2d(out_channels, out_channels, 3, padding=1),\n",
        "        nn.ReLU(inplace=True)\n",
        "    )   \n",
        "\n",
        "\n",
        "class UNet(nn.Module):\n",
        "\n",
        "    def __init__(self, n_class):\n",
        "        super().__init__()\n",
        "                \n",
        "        self.dconv_down1 = double_conv(1, 64)\n",
        "        self.dconv_down2 = double_conv(64, 128)\n",
        "        self.dconv_down3 = double_conv(128, 256)\n",
        "        self.dconv_down4 = double_conv(256, 512)        \n",
        "\n",
        "        self.maxpool = nn.MaxPool2d(2)\n",
        "        self.upsample = nn.Upsample(scale_factor=2, mode='bilinear', align_corners=True)        \n",
        "        \n",
        "        self.dconv_up3 = double_conv(256 + 512, 256)\n",
        "        self.dconv_up2 = double_conv(128 + 256, 128)\n",
        "        self.dconv_up1 = double_conv(128 + 64, 64)\n",
        "        \n",
        "        self.conv_last = nn.Conv2d(64, n_class, 1)\n",
        "        \n",
        "        \n",
        "    def forward(self, x):\n",
        "        conv1 = self.dconv_down1(x)\n",
        "        x = self.maxpool(conv1)\n",
        "\n",
        "        conv2 = self.dconv_down2(x)\n",
        "        x = self.maxpool(conv2)\n",
        "        \n",
        "        conv3 = self.dconv_down3(x)\n",
        "        x = self.maxpool(conv3)   \n",
        "        \n",
        "        x = self.dconv_down4(x)\n",
        "        \n",
        "        x = self.upsample(x)        \n",
        "        x = torch.cat([x, conv3], dim=1)\n",
        "        \n",
        "        x = self.dconv_up3(x)\n",
        "        x = self.upsample(x)        \n",
        "        x = torch.cat([x, conv2], dim=1)       \n",
        "\n",
        "        x = self.dconv_up2(x)\n",
        "        x = self.upsample(x)        \n",
        "        x = torch.cat([x, conv1], dim=1)   \n",
        "        \n",
        "        x = self.dconv_up1(x)\n",
        "        \n",
        "        out = self.conv_last(x)\n",
        "        \n",
        "        return out"
      ],
      "execution_count": 55,
      "outputs": []
    },
    {
      "cell_type": "markdown",
      "metadata": {
        "id": "gJ65Br1oDCOX",
        "colab_type": "text"
      },
      "source": [
        "## Instantiate the UNet model"
      ]
    },
    {
      "cell_type": "code",
      "metadata": {
        "id": "bY0Vk2VDCAiz",
        "colab_type": "code",
        "colab": {}
      },
      "source": [
        "import torch\n",
        "import torch.nn as nn\n",
        "# import pytorch_unet\n",
        "\n",
        "device = torch.device('cuda' if torch.cuda.is_available() else 'cpu')\n",
        "\n",
        "model = UNet(1)\n",
        "model = model.to(device)"
      ],
      "execution_count": 56,
      "outputs": []
    },
    {
      "cell_type": "code",
      "metadata": {
        "id": "RaZdFgOnGA_p",
        "colab_type": "code",
        "colab": {
          "base_uri": "https://localhost:8080/",
          "height": 816
        },
        "outputId": "6244fb3d-4f4a-4aee-f8c2-30411e427dac"
      },
      "source": [
        "model"
      ],
      "execution_count": 57,
      "outputs": [
        {
          "output_type": "execute_result",
          "data": {
            "text/plain": [
              "UNet(\n",
              "  (dconv_down1): Sequential(\n",
              "    (0): Conv2d(1, 64, kernel_size=(3, 3), stride=(1, 1), padding=(1, 1))\n",
              "    (1): ReLU(inplace=True)\n",
              "    (2): Conv2d(64, 64, kernel_size=(3, 3), stride=(1, 1), padding=(1, 1))\n",
              "    (3): ReLU(inplace=True)\n",
              "  )\n",
              "  (dconv_down2): Sequential(\n",
              "    (0): Conv2d(64, 128, kernel_size=(3, 3), stride=(1, 1), padding=(1, 1))\n",
              "    (1): ReLU(inplace=True)\n",
              "    (2): Conv2d(128, 128, kernel_size=(3, 3), stride=(1, 1), padding=(1, 1))\n",
              "    (3): ReLU(inplace=True)\n",
              "  )\n",
              "  (dconv_down3): Sequential(\n",
              "    (0): Conv2d(128, 256, kernel_size=(3, 3), stride=(1, 1), padding=(1, 1))\n",
              "    (1): ReLU(inplace=True)\n",
              "    (2): Conv2d(256, 256, kernel_size=(3, 3), stride=(1, 1), padding=(1, 1))\n",
              "    (3): ReLU(inplace=True)\n",
              "  )\n",
              "  (dconv_down4): Sequential(\n",
              "    (0): Conv2d(256, 512, kernel_size=(3, 3), stride=(1, 1), padding=(1, 1))\n",
              "    (1): ReLU(inplace=True)\n",
              "    (2): Conv2d(512, 512, kernel_size=(3, 3), stride=(1, 1), padding=(1, 1))\n",
              "    (3): ReLU(inplace=True)\n",
              "  )\n",
              "  (maxpool): MaxPool2d(kernel_size=2, stride=2, padding=0, dilation=1, ceil_mode=False)\n",
              "  (upsample): Upsample(scale_factor=2.0, mode=bilinear)\n",
              "  (dconv_up3): Sequential(\n",
              "    (0): Conv2d(768, 256, kernel_size=(3, 3), stride=(1, 1), padding=(1, 1))\n",
              "    (1): ReLU(inplace=True)\n",
              "    (2): Conv2d(256, 256, kernel_size=(3, 3), stride=(1, 1), padding=(1, 1))\n",
              "    (3): ReLU(inplace=True)\n",
              "  )\n",
              "  (dconv_up2): Sequential(\n",
              "    (0): Conv2d(384, 128, kernel_size=(3, 3), stride=(1, 1), padding=(1, 1))\n",
              "    (1): ReLU(inplace=True)\n",
              "    (2): Conv2d(128, 128, kernel_size=(3, 3), stride=(1, 1), padding=(1, 1))\n",
              "    (3): ReLU(inplace=True)\n",
              "  )\n",
              "  (dconv_up1): Sequential(\n",
              "    (0): Conv2d(192, 64, kernel_size=(3, 3), stride=(1, 1), padding=(1, 1))\n",
              "    (1): ReLU(inplace=True)\n",
              "    (2): Conv2d(64, 64, kernel_size=(3, 3), stride=(1, 1), padding=(1, 1))\n",
              "    (3): ReLU(inplace=True)\n",
              "  )\n",
              "  (conv_last): Conv2d(64, 1, kernel_size=(1, 1), stride=(1, 1))\n",
              ")"
            ]
          },
          "metadata": {
            "tags": []
          },
          "execution_count": 57
        }
      ]
    },
    {
      "cell_type": "code",
      "metadata": {
        "id": "MoVYhHpbCSdY",
        "colab_type": "code",
        "colab": {
          "base_uri": "https://localhost:8080/",
          "height": 833
        },
        "outputId": "10d08e9b-b26d-4a68-a655-f326d2a7df67"
      },
      "source": [
        "from torchsummary import summary\n",
        "summary(model, input_size=(1, 256, 256))"
      ],
      "execution_count": 58,
      "outputs": [
        {
          "output_type": "stream",
          "text": [
            "----------------------------------------------------------------\n",
            "        Layer (type)               Output Shape         Param #\n",
            "================================================================\n",
            "            Conv2d-1         [-1, 64, 256, 256]             640\n",
            "              ReLU-2         [-1, 64, 256, 256]               0\n",
            "            Conv2d-3         [-1, 64, 256, 256]          36,928\n",
            "              ReLU-4         [-1, 64, 256, 256]               0\n",
            "         MaxPool2d-5         [-1, 64, 128, 128]               0\n",
            "            Conv2d-6        [-1, 128, 128, 128]          73,856\n",
            "              ReLU-7        [-1, 128, 128, 128]               0\n",
            "            Conv2d-8        [-1, 128, 128, 128]         147,584\n",
            "              ReLU-9        [-1, 128, 128, 128]               0\n",
            "        MaxPool2d-10          [-1, 128, 64, 64]               0\n",
            "           Conv2d-11          [-1, 256, 64, 64]         295,168\n",
            "             ReLU-12          [-1, 256, 64, 64]               0\n",
            "           Conv2d-13          [-1, 256, 64, 64]         590,080\n",
            "             ReLU-14          [-1, 256, 64, 64]               0\n",
            "        MaxPool2d-15          [-1, 256, 32, 32]               0\n",
            "           Conv2d-16          [-1, 512, 32, 32]       1,180,160\n",
            "             ReLU-17          [-1, 512, 32, 32]               0\n",
            "           Conv2d-18          [-1, 512, 32, 32]       2,359,808\n",
            "             ReLU-19          [-1, 512, 32, 32]               0\n",
            "         Upsample-20          [-1, 512, 64, 64]               0\n",
            "           Conv2d-21          [-1, 256, 64, 64]       1,769,728\n",
            "             ReLU-22          [-1, 256, 64, 64]               0\n",
            "           Conv2d-23          [-1, 256, 64, 64]         590,080\n",
            "             ReLU-24          [-1, 256, 64, 64]               0\n",
            "         Upsample-25        [-1, 256, 128, 128]               0\n",
            "           Conv2d-26        [-1, 128, 128, 128]         442,496\n",
            "             ReLU-27        [-1, 128, 128, 128]               0\n",
            "           Conv2d-28        [-1, 128, 128, 128]         147,584\n",
            "             ReLU-29        [-1, 128, 128, 128]               0\n",
            "         Upsample-30        [-1, 128, 256, 256]               0\n",
            "           Conv2d-31         [-1, 64, 256, 256]         110,656\n",
            "             ReLU-32         [-1, 64, 256, 256]               0\n",
            "           Conv2d-33         [-1, 64, 256, 256]          36,928\n",
            "             ReLU-34         [-1, 64, 256, 256]               0\n",
            "           Conv2d-35          [-1, 1, 256, 256]              65\n",
            "================================================================\n",
            "Total params: 7,781,761\n",
            "Trainable params: 7,781,761\n",
            "Non-trainable params: 0\n",
            "----------------------------------------------------------------\n",
            "Input size (MB): 0.25\n",
            "Forward/backward pass size (MB): 590.50\n",
            "Params size (MB): 29.69\n",
            "Estimated Total Size (MB): 620.44\n",
            "----------------------------------------------------------------\n"
          ],
          "name": "stdout"
        }
      ]
    },
    {
      "cell_type": "markdown",
      "metadata": {
        "id": "H7rAEQCUEI2v",
        "colab_type": "text"
      },
      "source": [
        "# Define the main training loop"
      ]
    },
    {
      "cell_type": "code",
      "metadata": {
        "id": "tjt9JeTuDY6D",
        "colab_type": "code",
        "colab": {}
      },
      "source": [
        "from collections import defaultdict\n",
        "import torch.nn.functional as F\n",
        "from loss import dice_loss\n",
        "import copy\n",
        "\n",
        "def calc_loss(pred, target, metrics, bce_weight=0.5):\n",
        "    bce = F.binary_cross_entropy_with_logits(pred, target)\n",
        "\n",
        "    pred = F.sigmoid(pred)\n",
        "    dice = dice_loss(pred, target)\n",
        "\n",
        "    loss = bce * bce_weight + dice * (1 - bce_weight)\n",
        "\n",
        "    metrics['bce'] += bce.data.cpu().numpy() * target.size(0)\n",
        "    metrics['dice'] += dice.data.cpu().numpy() * target.size(0)\n",
        "    metrics['loss'] += loss.data.cpu().numpy() * target.size(0)\n",
        "\n",
        "    return loss\n",
        "\n",
        "def print_metrics(metrics, epoch_samples, phase):\n",
        "    outputs = []\n",
        "    for k in metrics.keys():\n",
        "        outputs.append(\"{}: {:4f}\".format(k, metrics[k] / epoch_samples))\n",
        "\n",
        "    return \"{}: {}\".format(phase, \", \".join(outputs))\n",
        "\n",
        "def train_model(model, optimizer, scheduler, num_epochs=25):\n",
        "\n",
        "    best_model_wts = copy.deepcopy(model.state_dict())\n",
        "    best_loss = 1e10\n",
        "\n",
        "    for epoch in range(num_epochs):\n",
        "        print('Epoch {}/{}'.format(epoch, num_epochs - 1))\n",
        "        print('-' * 10)\n",
        "        text = ('Epoch {}/{}'.format(epoch, num_epochs - 1) + \"\\n\")\n",
        "        file.write(text)\n",
        "\n",
        "        since = time.time()\n",
        "\n",
        "        # Each epoch has a training and validation phase\n",
        "        for phase in ['train', 'val']:\n",
        "            if phase == 'train':\n",
        "                scheduler.step()\n",
        "                for param_group in optimizer.param_groups:\n",
        "                    print(\"LR\", param_group['lr'])\n",
        "\n",
        "                model.train()  # Set model to training mode\n",
        "            else:\n",
        "                model.eval()   # Set model to evaluate mode\n",
        "\n",
        "            metrics = defaultdict(float)\n",
        "            epoch_samples = 0\n",
        "\n",
        "            for inputs, labels in dataloaders[phase]:\n",
        "                inputs = inputs.to(device=device, dtype=torch.float)\n",
        "                labels = labels.to(device=device, dtype=torch.float)\n",
        "\n",
        "                # zero the parameter gradients\n",
        "                optimizer.zero_grad()\n",
        "\n",
        "                # forward\n",
        "                # track history if only in train\n",
        "                with torch.set_grad_enabled(phase == 'train'):\n",
        "                    outputs = model(inputs)\n",
        "                    loss = calc_loss(outputs, labels, metrics)\n",
        "\n",
        "                    # backward + optimize only if in training phase\n",
        "                    if phase == 'train':\n",
        "                        loss.backward()\n",
        "                        optimizer.step()\n",
        "\n",
        "                # statistics\n",
        "                epoch_samples += inputs.size(0)\n",
        "\n",
        "            print(print_metrics(metrics, epoch_samples, phase))\n",
        "            text = (print_metrics(metrics, epoch_samples, phase) + \"\\n\")\n",
        "            file.write(text)\n",
        "            epoch_loss = metrics['loss'] / epoch_samples\n",
        "\n",
        "            # deep copy the model\n",
        "            if phase == 'val' and epoch_loss < best_loss:\n",
        "                print(\"saving best model\")\n",
        "                best_loss = epoch_loss\n",
        "                best_model_wts = copy.deepcopy(model.state_dict())\n",
        "\n",
        "        time_elapsed = time.time() - since\n",
        "        print('{:.0f}m {:.0f}s'.format(time_elapsed // 60, time_elapsed % 60))\n",
        "\n",
        "    print('Best val loss: {:4f}'.format(best_loss))\n",
        "\n",
        "    # load best model weights\n",
        "    model.load_state_dict(best_model_wts)\n",
        "    return model"
      ],
      "execution_count": 59,
      "outputs": []
    },
    {
      "cell_type": "markdown",
      "metadata": {
        "id": "adcdAu9ZEOLG",
        "colab_type": "text"
      },
      "source": [
        "# Training"
      ]
    },
    {
      "cell_type": "code",
      "metadata": {
        "id": "JwfwKMRmQ12Z",
        "colab_type": "code",
        "colab": {
          "base_uri": "https://localhost:8080/",
          "height": 34
        },
        "outputId": "80949c6a-1287-49ca-b843-0edd3fb49765"
      },
      "source": [
        "%cd /content\n",
        "file = open(\"UNetPerformance.txt\", \"w\")"
      ],
      "execution_count": 60,
      "outputs": [
        {
          "output_type": "stream",
          "text": [
            "/content\n"
          ],
          "name": "stdout"
        }
      ]
    },
    {
      "cell_type": "code",
      "metadata": {
        "id": "RfxgL303EMiy",
        "colab_type": "code",
        "colab": {
          "base_uri": "https://localhost:8080/",
          "height": 1000
        },
        "outputId": "0eb593c7-e154-4422-a9d7-7c80d87a47a4"
      },
      "source": [
        "import torch\n",
        "import torch.optim as optim\n",
        "from torch.optim import lr_scheduler\n",
        "import time\n",
        "\n",
        "num_class = 1\n",
        "model = UNet(1).to(device)\n",
        "\n",
        "# freeze backbone layers\n",
        "# for l in model.base_layers:\n",
        "#   for param in l.parameters():\n",
        "#     param.requires_grad = False\n",
        "\n",
        "optimizer_ft = optim.Adam(filter(lambda p: p.requires_grad, model.parameters()), lr=1e-4)\n",
        "\n",
        "exp_lr_scheduler = lr_scheduler.StepLR(optimizer_ft, step_size=8, gamma=0.1)\n",
        "\n",
        "model = train_model(model, optimizer_ft, exp_lr_scheduler, num_epochs=50)"
      ],
      "execution_count": 63,
      "outputs": [
        {
          "output_type": "stream",
          "text": [
            "Epoch 0/49\n",
            "----------\n",
            "LR 0.0001\n"
          ],
          "name": "stdout"
        },
        {
          "output_type": "stream",
          "text": [
            "/usr/local/lib/python3.6/dist-packages/torch/optim/lr_scheduler.py:123: UserWarning: Detected call of `lr_scheduler.step()` before `optimizer.step()`. In PyTorch 1.1.0 and later, you should call them in the opposite order: `optimizer.step()` before `lr_scheduler.step()`.  Failure to do this will result in PyTorch skipping the first value of the learning rate schedule. See more details at https://pytorch.org/docs/stable/optim.html#how-to-adjust-learning-rate\n",
            "  \"https://pytorch.org/docs/stable/optim.html#how-to-adjust-learning-rate\", UserWarning)\n",
            "/usr/local/lib/python3.6/dist-packages/torch/nn/functional.py:1625: UserWarning: nn.functional.sigmoid is deprecated. Use torch.sigmoid instead.\n",
            "  warnings.warn(\"nn.functional.sigmoid is deprecated. Use torch.sigmoid instead.\")\n"
          ],
          "name": "stderr"
        },
        {
          "output_type": "stream",
          "text": [
            "train: bce: 0.707617, dice: 0.618947, loss: 0.663282\n",
            "val: bce: 0.703709, dice: 0.627789, loss: 0.665749\n",
            "saving best model\n",
            "0m 14s\n",
            "Epoch 1/49\n",
            "----------\n",
            "LR 0.0001\n",
            "train: bce: 0.700905, dice: 0.619491, loss: 0.660198\n",
            "val: bce: 0.695982, dice: 0.628350, loss: 0.662166\n",
            "saving best model\n",
            "0m 14s\n",
            "Epoch 2/49\n",
            "----------\n",
            "LR 0.0001\n",
            "train: bce: 0.689338, dice: 0.620655, loss: 0.654997\n",
            "val: bce: 0.659652, dice: 0.632975, loss: 0.646314\n",
            "saving best model\n",
            "0m 14s\n",
            "Epoch 3/49\n",
            "----------\n",
            "LR 0.0001\n",
            "train: bce: 0.613642, dice: 0.645450, loss: 0.629546\n",
            "val: bce: 0.553355, dice: 0.653776, loss: 0.603565\n",
            "saving best model\n",
            "0m 14s\n",
            "Epoch 4/49\n",
            "----------\n",
            "LR 0.0001\n",
            "train: bce: 0.559415, dice: 0.636066, loss: 0.597741\n",
            "val: bce: 0.482364, dice: 0.621171, loss: 0.551767\n",
            "saving best model\n",
            "0m 14s\n",
            "Epoch 5/49\n",
            "----------\n",
            "LR 0.0001\n",
            "train: bce: 0.498938, dice: 0.602955, loss: 0.550946\n",
            "val: bce: 0.414541, dice: 0.548190, loss: 0.481365\n",
            "saving best model\n",
            "0m 14s\n",
            "Epoch 6/49\n",
            "----------\n",
            "LR 0.0001\n",
            "train: bce: 0.454393, dice: 0.548796, loss: 0.501594\n",
            "val: bce: 0.393449, dice: 0.511379, loss: 0.452414\n",
            "saving best model\n",
            "0m 14s\n",
            "Epoch 7/49\n",
            "----------\n",
            "LR 1e-05\n",
            "train: bce: 0.446738, dice: 0.525468, loss: 0.486103\n",
            "val: bce: 0.378932, dice: 0.500581, loss: 0.439756\n",
            "saving best model\n",
            "0m 14s\n",
            "Epoch 8/49\n",
            "----------\n",
            "LR 1e-05\n",
            "train: bce: 0.450252, dice: 0.520063, loss: 0.485158\n",
            "val: bce: 0.376734, dice: 0.498139, loss: 0.437437\n",
            "saving best model\n",
            "0m 14s\n",
            "Epoch 9/49\n",
            "----------\n",
            "LR 1e-05\n",
            "train: bce: 0.448186, dice: 0.519734, loss: 0.483960\n",
            "val: bce: 0.380474, dice: 0.501330, loss: 0.440902\n",
            "0m 14s\n",
            "Epoch 10/49\n",
            "----------\n",
            "LR 1e-05\n",
            "train: bce: 0.441013, dice: 0.519410, loss: 0.480211\n",
            "val: bce: 0.376666, dice: 0.498512, loss: 0.437589\n",
            "0m 14s\n",
            "Epoch 11/49\n",
            "----------\n",
            "LR 1e-05\n",
            "train: bce: 0.438715, dice: 0.517537, loss: 0.478126\n",
            "val: bce: 0.375171, dice: 0.497315, loss: 0.436243\n",
            "saving best model\n",
            "0m 14s\n",
            "Epoch 12/49\n",
            "----------\n",
            "LR 1e-05\n",
            "train: bce: 0.438584, dice: 0.515416, loss: 0.477000\n",
            "val: bce: 0.372841, dice: 0.495075, loss: 0.433958\n",
            "saving best model\n",
            "0m 14s\n",
            "Epoch 13/49\n",
            "----------\n",
            "LR 1e-05\n",
            "train: bce: 0.435658, dice: 0.516108, loss: 0.475883\n",
            "val: bce: 0.377759, dice: 0.499006, loss: 0.438383\n",
            "0m 14s\n",
            "Epoch 14/49\n",
            "----------\n",
            "LR 1e-05\n",
            "train: bce: 0.431389, dice: 0.515938, loss: 0.473664\n",
            "val: bce: 0.372121, dice: 0.494676, loss: 0.433398\n",
            "saving best model\n",
            "0m 14s\n",
            "Epoch 15/49\n",
            "----------\n",
            "LR 1.0000000000000002e-06\n",
            "train: bce: 0.430753, dice: 0.513321, loss: 0.472037\n",
            "val: bce: 0.371507, dice: 0.494092, loss: 0.432800\n",
            "saving best model\n",
            "0m 14s\n",
            "Epoch 16/49\n",
            "----------\n",
            "LR 1.0000000000000002e-06\n",
            "train: bce: 0.430713, dice: 0.512987, loss: 0.471850\n",
            "val: bce: 0.371216, dice: 0.493783, loss: 0.432500\n",
            "saving best model\n",
            "0m 14s\n",
            "Epoch 17/49\n",
            "----------\n",
            "LR 1.0000000000000002e-06\n",
            "train: bce: 0.430657, dice: 0.512731, loss: 0.471694\n",
            "val: bce: 0.370984, dice: 0.493509, loss: 0.432246\n",
            "saving best model\n",
            "0m 14s\n",
            "Epoch 18/49\n",
            "----------\n",
            "LR 1.0000000000000002e-06\n",
            "train: bce: 0.430734, dice: 0.512441, loss: 0.471587\n",
            "val: bce: 0.370670, dice: 0.493136, loss: 0.431903\n",
            "saving best model\n",
            "0m 14s\n",
            "Epoch 19/49\n",
            "----------\n",
            "LR 1.0000000000000002e-06\n",
            "train: bce: 0.430595, dice: 0.512240, loss: 0.471418\n",
            "val: bce: 0.370688, dice: 0.493098, loss: 0.431893\n",
            "saving best model\n",
            "0m 14s\n",
            "Epoch 20/49\n",
            "----------\n",
            "LR 1.0000000000000002e-06\n",
            "train: bce: 0.430177, dice: 0.512155, loss: 0.471166\n",
            "val: bce: 0.370819, dice: 0.493178, loss: 0.431999\n",
            "0m 14s\n",
            "Epoch 21/49\n",
            "----------\n",
            "LR 1.0000000000000002e-06\n",
            "train: bce: 0.429828, dice: 0.512220, loss: 0.471024\n",
            "val: bce: 0.371062, dice: 0.493357, loss: 0.432209\n",
            "0m 14s\n",
            "Epoch 22/49\n",
            "----------\n",
            "LR 1.0000000000000002e-06\n",
            "train: bce: 0.429522, dice: 0.512188, loss: 0.470855\n",
            "val: bce: 0.371052, dice: 0.493317, loss: 0.432185\n",
            "0m 14s\n",
            "Epoch 23/49\n",
            "----------\n",
            "LR 1.0000000000000002e-07\n",
            "train: bce: 0.429356, dice: 0.512131, loss: 0.470743\n",
            "val: bce: 0.371015, dice: 0.493279, loss: 0.432147\n",
            "0m 14s\n",
            "Epoch 24/49\n",
            "----------\n",
            "LR 1.0000000000000002e-07\n",
            "train: bce: 0.429338, dice: 0.512111, loss: 0.470725\n",
            "val: bce: 0.371008, dice: 0.493270, loss: 0.432139\n",
            "0m 14s\n",
            "Epoch 25/49\n",
            "----------\n",
            "LR 1.0000000000000002e-07\n",
            "train: bce: 0.429328, dice: 0.512090, loss: 0.470709\n",
            "val: bce: 0.370972, dice: 0.493232, loss: 0.432102\n",
            "0m 14s\n",
            "Epoch 26/49\n",
            "----------\n",
            "LR 1.0000000000000002e-07\n",
            "train: bce: 0.429320, dice: 0.512056, loss: 0.470688\n",
            "val: bce: 0.370922, dice: 0.493183, loss: 0.432052\n",
            "0m 14s\n",
            "Epoch 27/49\n",
            "----------\n",
            "LR 1.0000000000000002e-07\n",
            "train: bce: 0.429332, dice: 0.512019, loss: 0.470675\n",
            "val: bce: 0.370869, dice: 0.493131, loss: 0.432000\n",
            "0m 14s\n",
            "Epoch 28/49\n",
            "----------\n",
            "LR 1.0000000000000002e-07\n",
            "train: bce: 0.429319, dice: 0.511992, loss: 0.470655\n",
            "val: bce: 0.370866, dice: 0.493126, loss: 0.431996\n",
            "0m 14s\n",
            "Epoch 29/49\n",
            "----------\n",
            "LR 1.0000000000000002e-07\n",
            "train: bce: 0.429304, dice: 0.511980, loss: 0.470642\n",
            "val: bce: 0.370847, dice: 0.493104, loss: 0.431976\n",
            "0m 14s\n",
            "Epoch 30/49\n",
            "----------\n",
            "LR 1.0000000000000002e-07\n",
            "train: bce: 0.429292, dice: 0.511953, loss: 0.470623\n",
            "val: bce: 0.370801, dice: 0.493059, loss: 0.431930\n",
            "0m 14s\n",
            "Epoch 31/49\n",
            "----------\n",
            "LR 1.0000000000000004e-08\n",
            "train: bce: 0.429291, dice: 0.511930, loss: 0.470611\n",
            "val: bce: 0.370799, dice: 0.493056, loss: 0.431928\n",
            "0m 14s\n",
            "Epoch 32/49\n",
            "----------\n",
            "LR 1.0000000000000004e-08\n",
            "train: bce: 0.429293, dice: 0.511926, loss: 0.470609\n",
            "val: bce: 0.370792, dice: 0.493049, loss: 0.431921\n",
            "0m 14s\n",
            "Epoch 33/49\n",
            "----------\n",
            "LR 1.0000000000000004e-08\n",
            "train: bce: 0.429292, dice: 0.511922, loss: 0.470607\n",
            "val: bce: 0.370789, dice: 0.493046, loss: 0.431917\n",
            "0m 14s\n",
            "Epoch 34/49\n",
            "----------\n",
            "LR 1.0000000000000004e-08\n",
            "train: bce: 0.429293, dice: 0.511919, loss: 0.470606\n",
            "val: bce: 0.370783, dice: 0.493040, loss: 0.431912\n",
            "0m 14s\n",
            "Epoch 35/49\n",
            "----------\n",
            "LR 1.0000000000000004e-08\n",
            "train: bce: 0.429294, dice: 0.511915, loss: 0.470604\n",
            "val: bce: 0.370777, dice: 0.493035, loss: 0.431906\n",
            "0m 14s\n",
            "Epoch 36/49\n",
            "----------\n",
            "LR 1.0000000000000004e-08\n",
            "train: bce: 0.429296, dice: 0.511910, loss: 0.470603\n",
            "val: bce: 0.370771, dice: 0.493029, loss: 0.431900\n",
            "0m 14s\n",
            "Epoch 37/49\n",
            "----------\n",
            "LR 1.0000000000000004e-08\n",
            "train: bce: 0.429295, dice: 0.511907, loss: 0.470601\n",
            "val: bce: 0.370768, dice: 0.493026, loss: 0.431897\n",
            "0m 14s\n",
            "Epoch 38/49\n",
            "----------\n",
            "LR 1.0000000000000004e-08\n",
            "train: bce: 0.429295, dice: 0.511903, loss: 0.470599\n",
            "val: bce: 0.370762, dice: 0.493019, loss: 0.431890\n",
            "saving best model\n",
            "0m 14s\n",
            "Epoch 39/49\n",
            "----------\n",
            "LR 1.0000000000000005e-09\n",
            "train: bce: 0.429295, dice: 0.511900, loss: 0.470598\n",
            "val: bce: 0.370761, dice: 0.493019, loss: 0.431890\n",
            "saving best model\n",
            "0m 14s\n",
            "Epoch 40/49\n",
            "----------\n",
            "LR 1.0000000000000005e-09\n",
            "train: bce: 0.429295, dice: 0.511900, loss: 0.470598\n",
            "val: bce: 0.370761, dice: 0.493019, loss: 0.431890\n",
            "saving best model\n",
            "0m 14s\n",
            "Epoch 41/49\n",
            "----------\n",
            "LR 1.0000000000000005e-09\n",
            "train: bce: 0.429295, dice: 0.511900, loss: 0.470597\n",
            "val: bce: 0.370761, dice: 0.493019, loss: 0.431890\n",
            "saving best model\n",
            "0m 14s\n",
            "Epoch 42/49\n",
            "----------\n",
            "LR 1.0000000000000005e-09\n",
            "train: bce: 0.429295, dice: 0.511899, loss: 0.470597\n",
            "val: bce: 0.370761, dice: 0.493018, loss: 0.431889\n",
            "saving best model\n",
            "0m 14s\n",
            "Epoch 43/49\n",
            "----------\n",
            "LR 1.0000000000000005e-09\n",
            "train: bce: 0.429295, dice: 0.511899, loss: 0.470597\n",
            "val: bce: 0.370760, dice: 0.493018, loss: 0.431889\n",
            "saving best model\n",
            "0m 14s\n",
            "Epoch 44/49\n",
            "----------\n",
            "LR 1.0000000000000005e-09\n",
            "train: bce: 0.429295, dice: 0.511899, loss: 0.470597\n",
            "val: bce: 0.370760, dice: 0.493018, loss: 0.431889\n",
            "saving best model\n",
            "0m 14s\n",
            "Epoch 45/49\n",
            "----------\n",
            "LR 1.0000000000000005e-09\n",
            "train: bce: 0.429295, dice: 0.511899, loss: 0.470597\n",
            "val: bce: 0.370760, dice: 0.493018, loss: 0.431889\n",
            "saving best model\n",
            "0m 14s\n",
            "Epoch 46/49\n",
            "----------\n",
            "LR 1.0000000000000005e-09\n",
            "train: bce: 0.429295, dice: 0.511899, loss: 0.470597\n",
            "val: bce: 0.370760, dice: 0.493018, loss: 0.431889\n",
            "0m 14s\n",
            "Epoch 47/49\n",
            "----------\n",
            "LR 1.0000000000000006e-10\n",
            "train: bce: 0.429295, dice: 0.511899, loss: 0.470597\n",
            "val: bce: 0.370760, dice: 0.493018, loss: 0.431889\n",
            "0m 14s\n",
            "Epoch 48/49\n",
            "----------\n",
            "LR 1.0000000000000006e-10\n",
            "train: bce: 0.429295, dice: 0.511899, loss: 0.470597\n",
            "val: bce: 0.370760, dice: 0.493018, loss: 0.431889\n",
            "0m 14s\n",
            "Epoch 49/49\n",
            "----------\n",
            "LR 1.0000000000000006e-10\n",
            "train: bce: 0.429295, dice: 0.511899, loss: 0.470597\n",
            "val: bce: 0.370760, dice: 0.493018, loss: 0.431889\n",
            "0m 14s\n",
            "Best val loss: 0.431889\n"
          ],
          "name": "stdout"
        }
      ]
    },
    {
      "cell_type": "code",
      "metadata": {
        "id": "cFNc9lRyRRio",
        "colab_type": "code",
        "colab": {
          "base_uri": "https://localhost:8080/",
          "height": 17
        },
        "outputId": "0bd24dda-02d6-4313-980a-4204c62248ed"
      },
      "source": [
        "file.close()\n",
        "from google.colab import files\n",
        "files.download(\"/content/UNetPerformance.txt\") "
      ],
      "execution_count": 64,
      "outputs": [
        {
          "output_type": "display_data",
          "data": {
            "application/javascript": [
              "\n",
              "    async function download(id, filename, size) {\n",
              "      if (!google.colab.kernel.accessAllowed) {\n",
              "        return;\n",
              "      }\n",
              "      const div = document.createElement('div');\n",
              "      const label = document.createElement('label');\n",
              "      label.textContent = `Downloading \"${filename}\": `;\n",
              "      div.appendChild(label);\n",
              "      const progress = document.createElement('progress');\n",
              "      progress.max = size;\n",
              "      div.appendChild(progress);\n",
              "      document.body.appendChild(div);\n",
              "\n",
              "      const buffers = [];\n",
              "      let downloaded = 0;\n",
              "\n",
              "      const channel = await google.colab.kernel.comms.open(id);\n",
              "      // Send a message to notify the kernel that we're ready.\n",
              "      channel.send({})\n",
              "\n",
              "      for await (const message of channel.messages) {\n",
              "        // Send a message to notify the kernel that we're ready.\n",
              "        channel.send({})\n",
              "        if (message.buffers) {\n",
              "          for (const buffer of message.buffers) {\n",
              "            buffers.push(buffer);\n",
              "            downloaded += buffer.byteLength;\n",
              "            progress.value = downloaded;\n",
              "          }\n",
              "        }\n",
              "      }\n",
              "      const blob = new Blob(buffers, {type: 'application/binary'});\n",
              "      const a = document.createElement('a');\n",
              "      a.href = window.URL.createObjectURL(blob);\n",
              "      a.download = filename;\n",
              "      div.appendChild(a);\n",
              "      a.click();\n",
              "      div.remove();\n",
              "    }\n",
              "  "
            ],
            "text/plain": [
              "<IPython.core.display.Javascript object>"
            ]
          },
          "metadata": {
            "tags": []
          }
        },
        {
          "output_type": "display_data",
          "data": {
            "application/javascript": [
              "download(\"download_2f50c2d2-3d5d-4d52-9a57-30b3cd18d15c\", \"UNetPerformance.txt\", 6042)"
            ],
            "text/plain": [
              "<IPython.core.display.Javascript object>"
            ]
          },
          "metadata": {
            "tags": []
          }
        }
      ]
    },
    {
      "cell_type": "markdown",
      "metadata": {
        "id": "lcRgjfk5D-kP",
        "colab_type": "text"
      },
      "source": [
        "## Predict new images using the trained model"
      ]
    },
    {
      "cell_type": "code",
      "metadata": {
        "id": "xXRtpxHRET-v",
        "colab_type": "code",
        "colab": {
          "base_uri": "https://localhost:8080/",
          "height": 337
        },
        "outputId": "83b5623e-29af-4238-a296-6221638dde45"
      },
      "source": [
        "import math\n",
        "\n",
        "model.eval()   # Set model to the evaluation mode\n",
        "\n",
        "# Create a new simulation dataset for testing\n",
        "test_dataset = Dataset(x_test, y_test, transform = trans)\n",
        "test_loader = DataLoader(test_dataset, batch_size=3, shuffle=False, num_workers=0)\n",
        "\n",
        "# Get the first batch\n",
        "inputs, labels = next(iter(test_loader))\n",
        "inputs = inputs.to(device=device, dtype=torch.float)\n",
        "labels = labels.to(device=device, dtype=torch.float)\n",
        "print('inputs.shape', inputs.shape)\n",
        "print('labels.shape', labels.shape)\n",
        "\n",
        "# Predict\n",
        "pred = model(inputs)\n",
        "# The loss functions include the sigmoid function.\n",
        "pred = torch.sigmoid(pred)\n",
        "pred = pred.data.cpu().numpy()\n",
        "print('pred.shape', pred.shape)\n",
        "\n",
        "\n",
        "plt.imshow(np.squeeze(pred[2]))"
      ],
      "execution_count": 65,
      "outputs": [
        {
          "output_type": "stream",
          "text": [
            "inputs.shape torch.Size([3, 1, 256, 256])\n",
            "labels.shape torch.Size([3, 1, 256, 256])\n",
            "pred.shape (3, 1, 256, 256)\n"
          ],
          "name": "stdout"
        },
        {
          "output_type": "execute_result",
          "data": {
            "text/plain": [
              "<matplotlib.image.AxesImage at 0x7f5fcc1c9860>"
            ]
          },
          "metadata": {
            "tags": []
          },
          "execution_count": 65
        },
        {
          "output_type": "display_data",
          "data": {
            "image/png": "[encoded data removed]",
            "text/plain": [
              "<Figure size 432x288 with 1 Axes>"
            ]
          },
          "metadata": {
            "tags": [],
            "needs_background": "light"
          }
        }
      ]
    },
    {
      "cell_type": "code",
      "metadata": {
        "id": "btLA2bAHdIKM",
        "colab_type": "code",
        "colab": {}
      },
      "source": [
        "plt.imshow(np.squeeze(y_test[2]))"
      ],
      "execution_count": null,
      "outputs": []
    },
    {
      "cell_type": "markdown",
      "metadata": {
        "id": "XPQyJc4YD39T",
        "colab_type": "text"
      },
      "source": [
        "## Left: Input image, Middle: Correct mask (Ground-truth), Rigth: Predicted mask"
      ]
    },
    {
      "cell_type": "code",
      "metadata": {
        "id": "z6dkJZLBCv4t",
        "colab_type": "code",
        "colab": {}
      },
      "source": [
        "helper.plot_side_by_side([input_images_rgb, target_masks_rgb, pred_rgb])"
      ],
      "execution_count": null,
      "outputs": []
    },
    {
      "cell_type": "code",
      "metadata": {
        "id": "Wsfxcw0-DZdn",
        "colab_type": "code",
        "colab": {}
      },
      "source": [
        ""
      ],
      "execution_count": null,
      "outputs": []
    }
  ]
}